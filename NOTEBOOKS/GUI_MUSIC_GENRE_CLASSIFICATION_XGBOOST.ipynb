{
 "cells": [
  {
   "cell_type": "markdown",
   "id": "48fed8e5-19f1-4f3e-94be-beb6e171a3ed",
   "metadata": {},
   "source": [
    "## GUI CREATION FOR MUSIC GENRE CLASSIFICATION"
   ]
  },
  {
   "cell_type": "markdown",
   "id": "5a735985-a51c-48ef-b34b-1851b63d7b0f",
   "metadata": {},
   "source": [
    "### IMPORTING MODULES"
   ]
  },
  {
   "cell_type": "code",
   "execution_count": 5,
   "id": "212d37ce-95dd-491e-9022-6ea482161291",
   "metadata": {},
   "outputs": [],
   "source": [
    "import tkinter as tk\n",
    "from tkinter import filedialog, Label\n",
    "import numpy as np\n",
    "import librosa\n",
    "import joblib"
   ]
  },
  {
   "cell_type": "markdown",
   "id": "2c07eec3-7ef5-460b-ba31-29f9936f8710",
   "metadata": {},
   "source": [
    "### Load the trained model"
   ]
  },
  {
   "cell_type": "code",
   "execution_count": 8,
   "id": "05e38421-6c23-4756-8792-f00ef9626ae2",
   "metadata": {},
   "outputs": [],
   "source": [
    "model_path = r\"C:\\Users\\ravis\\Downloads\\MUSIC_GENRE_CLASSIFICATION_XGBOOST\\MODELS\\music_genre_xgb_model.pkl\"\n",
    "model = joblib.load(model_path)"
   ]
  },
  {
   "cell_type": "markdown",
   "id": "c8e8df9f-d519-4dba-ae36-fa5026581a77",
   "metadata": {},
   "source": [
    "### Genre labels mapping"
   ]
  },
  {
   "cell_type": "code",
   "execution_count": 11,
   "id": "127b4d07-e9ad-4e35-bdc0-00471f3d2554",
   "metadata": {},
   "outputs": [],
   "source": [
    "genres = ['blues', 'classical', 'country', 'disco', 'hiphop', 'jazz', 'metal', 'pop', 'reggae', 'rock']\n",
    "genre_mapping = {i: genre for i, genre in enumerate(genres)}\n"
   ]
  },
  {
   "cell_type": "markdown",
   "id": "a9e32287-328b-4ab0-a824-8e6401cae3e1",
   "metadata": {},
   "source": [
    "### FEATURES EXTRACTION"
   ]
  },
  {
   "cell_type": "code",
   "execution_count": 14,
   "id": "484e7675-bc91-4ce1-892c-4f4bfc7e8c75",
   "metadata": {},
   "outputs": [],
   "source": [
    "# Extracting features from a single audio segment\n",
    "def extract_features_from_segment(y, sr):\n",
    "    features = {\n",
    "        'chroma_stft_mean': np.mean(librosa.feature.chroma_stft(y=y, sr=sr)),\n",
    "        'chroma_stft_std': np.std(librosa.feature.chroma_stft(y=y, sr=sr)),\n",
    "        'rmse_mean': np.mean(librosa.feature.rms(y=y)),\n",
    "        'rmse_std': np.std(librosa.feature.rms(y=y)),\n",
    "        'spectral_centroid_mean': np.mean(librosa.feature.spectral_centroid(y=y, sr=sr)),\n",
    "        'spectral_centroid_std': np.std(librosa.feature.spectral_centroid(y=y, sr=sr)),\n",
    "        'spectral_bandwidth_mean': np.mean(librosa.feature.spectral_bandwidth(y=y, sr=sr)),\n",
    "        'spectral_bandwidth_std': np.std(librosa.feature.spectral_bandwidth(y=y, sr=sr)),\n",
    "        'rolloff_mean': np.mean(librosa.feature.spectral_rolloff(y=y, sr=sr)),\n",
    "        'rolloff_std': np.std(librosa.feature.spectral_rolloff(y=y, sr=sr)),\n",
    "        'zero_crossing_rate_mean': np.mean(librosa.feature.zero_crossing_rate(y)),\n",
    "        'zero_crossing_rate_std': np.std(librosa.feature.zero_crossing_rate(y)),\n",
    "        'tempo': librosa.beat.tempo(y=y, sr=sr)[0]\n",
    "    }\n",
    "    # Extracting MFCCs and adding means and stds\n",
    "    mfccs = librosa.feature.mfcc(y=y, sr=sr, n_mfcc=20)\n",
    "    for i in range(1, 21):\n",
    "        features[f'mfcc{i}_mean'] = np.mean(mfccs[i-1])\n",
    "        features[f'mfcc{i}_std'] = np.std(mfccs[i-1])\n",
    "\n",
    "    return np.array([list(features.values())])  # Return as array for model input"
   ]
  },
  {
   "cell_type": "markdown",
   "id": "862a035f-f0b0-40e4-98bf-09824f5e3a27",
   "metadata": {},
   "source": [
    "### PREDICTION"
   ]
  },
  {
   "cell_type": "code",
   "execution_count": 17,
   "id": "b11c91c0-4c8d-4e73-b696-5edda4e27e91",
   "metadata": {},
   "outputs": [],
   "source": [
    "# Predict genre based on each 30-second segment and aggregate results\n",
    "def predict_genre(file_path):\n",
    "    y, sr = librosa.load(file_path)  # Load entire audio file\n",
    "    segment_length = 30  # seconds\n",
    "    num_segments = len(y) // (segment_length * sr)\n",
    "    \n",
    "    genre_votes = []\n",
    "\n",
    "    # Process each 30-second segment\n",
    "    for i in range(num_segments):\n",
    "        start_sample = i * segment_length * sr\n",
    "        end_sample = start_sample + segment_length * sr\n",
    "        segment_y = y[start_sample:end_sample]\n",
    "\n",
    "        # Extract features and predict genre for each segment\n",
    "        features = extract_features_from_segment(segment_y, sr)\n",
    "        genre_index = model.predict(features)[0]\n",
    "        genre_votes.append(genre_index)\n",
    "    \n",
    "    # Predict remaining part if any (less than 30 seconds)\n",
    "    if len(y) % (segment_length * sr) != 0:\n",
    "        remaining_y = y[num_segments * segment_length * sr:]\n",
    "        features = extract_features_from_segment(remaining_y, sr)\n",
    "        genre_index = model.predict(features)[0]\n",
    "        genre_votes.append(genre_index)\n",
    "    \n",
    "    # Aggregate predictions - majority voting\n",
    "    final_genre_index = max(set(genre_votes), key=genre_votes.count)\n",
    "    final_genre = genre_mapping.get(final_genre_index, \"Unknown Genre\")\n",
    "    return final_genre"
   ]
  },
  {
   "cell_type": "markdown",
   "id": "86c8af2a-1622-4674-9ec6-a907da652131",
   "metadata": {},
   "source": [
    "### File selection and prediction"
   ]
  },
  {
   "cell_type": "code",
   "execution_count": 20,
   "id": "2ec21b48-59fa-4fc1-9c9a-be403e0520b9",
   "metadata": {},
   "outputs": [],
   "source": [
    "def open_file():\n",
    "    file_path = filedialog.askopenfilename(filetypes=[(\"Audio Files\", \"*.wav *.mp3\")])\n",
    "    if file_path:\n",
    "        genre = predict_genre(file_path)\n",
    "        result_label.config(text=f\"Predicted Genre: {genre}\")"
   ]
  },
  {
   "cell_type": "markdown",
   "id": "cc79c571-30d4-42ac-ac73-0854a4bd76cf",
   "metadata": {},
   "source": [
    "### GUI setup"
   ]
  },
  {
   "cell_type": "code",
   "execution_count": 23,
   "id": "c60d1ded-a4a9-46e3-a1d6-f1731c90ea4a",
   "metadata": {},
   "outputs": [
    {
     "name": "stderr",
     "output_type": "stream",
     "text": [
      "C:\\Users\\ravis\\AppData\\Local\\Temp\\ipykernel_20104\\3882308726.py:16: FutureWarning: librosa.beat.tempo\n",
      "\tThis function was moved to 'librosa.feature.rhythm.tempo' in librosa version 0.10.0.\n",
      "\tThis alias will be removed in librosa version 1.0.\n",
      "  'tempo': librosa.beat.tempo(y=y, sr=sr)[0]\n"
     ]
    }
   ],
   "source": [
    "root = tk.Tk()\n",
    "root.title(\"Music Genre Classification\")\n",
    "root.geometry(\"400x300\")\n",
    "\n",
    "# GUI Elements\n",
    "Label(root, text=\"Music Genre Classification\", font=(\"Arial\", 18)).pack(pady=20)\n",
    "Label(root, text=\"Choose an audio file for genre prediction:\").pack(pady=10)\n",
    "tk.Button(root, text=\"Select Audio File\", command=open_file).pack(pady=10)\n",
    "result_label = Label(root, text=\"Predicted Genre:\", font=(\"Arial\", 14))\n",
    "result_label.pack(pady=20)\n",
    "\n",
    "root.mainloop()"
   ]
  },
  {
   "cell_type": "code",
   "execution_count": null,
   "id": "0b589eb3-8ef3-4cad-aa95-7e034894dc20",
   "metadata": {},
   "outputs": [],
   "source": []
  }
 ],
 "metadata": {
  "kernelspec": {
   "display_name": "Python 3 (ipykernel)",
   "language": "python",
   "name": "python3"
  },
  "language_info": {
   "codemirror_mode": {
    "name": "ipython",
    "version": 3
   },
   "file_extension": ".py",
   "mimetype": "text/x-python",
   "name": "python",
   "nbconvert_exporter": "python",
   "pygments_lexer": "ipython3",
   "version": "3.12.4"
  }
 },
 "nbformat": 4,
 "nbformat_minor": 5
}
